{
  "cells": [
    {
      "cell_type": "markdown",
      "metadata": {
        "colab_type": "text",
        "id": "view-in-github"
      },
      "source": [
        "<a href=\"https://colab.research.google.com/github/danielhendra0046/coursera-foundation-data-data-everywhere/blob/main/coursera_foundation_data_data_everywhere_00.ipynb\" target=\"_parent\"><img src=\"https://colab.research.google.com/assets/colab-badge.svg\" alt=\"Open In Colab\"/></a>"
      ]
    },
    {
      "cell_type": "markdown",
      "metadata": {},
      "source": [
        "# 26 NOVEMBER 2023"
      ]
    },
    {
      "cell_type": "markdown",
      "metadata": {},
      "source": [
        "## Introduction"
      ]
    },
    {
      "cell_type": "code",
      "execution_count": 1,
      "metadata": {
        "colab": {
          "base_uri": "https://localhost:8080/"
        },
        "id": "XlYUyUdVnPeO",
        "outputId": "a2d4c7ad-cd5a-4b6e-eb5d-d83dc53d2b10"
      },
      "outputs": [
        {
          "name": "stdout",
          "output_type": "stream",
          "text": [
            "Hello\n"
          ]
        }
      ],
      "source": []
    },
    {
      "cell_type": "markdown",
      "metadata": {},
      "source": [
        "# 27 NOVEMBER 2023"
      ]
    },
    {
      "cell_type": "markdown",
      "metadata": {},
      "source": [
        "## All About Analytical Thinking"
      ]
    },
    {
      "cell_type": "code",
      "execution_count": null,
      "metadata": {},
      "outputs": [],
      "source": [
        "# no many thing that i can be write in here, because i only listening the explanation of coursera"
      ]
    },
    {
      "cell_type": "markdown",
      "metadata": {},
      "source": [
        "# 28 NOVEMBER 2023"
      ]
    },
    {
      "cell_type": "markdown",
      "metadata": {},
      "source": [
        "## new lessons"
      ]
    },
    {
      "cell_type": "markdown",
      "metadata": {},
      "source": [
        "# 29 NOVEMBER 2023"
      ]
    },
    {
      "cell_type": "markdown",
      "metadata": {},
      "source": [
        "## new lessons"
      ]
    }
  ],
  "metadata": {
    "colab": {
      "authorship_tag": "ABX9TyMyCp1UZ+ArPqx6gedUXOv2",
      "include_colab_link": true,
      "provenance": []
    },
    "kernelspec": {
      "display_name": "Python 3",
      "name": "python3"
    },
    "language_info": {
      "name": "python"
    }
  },
  "nbformat": 4,
  "nbformat_minor": 0
}
